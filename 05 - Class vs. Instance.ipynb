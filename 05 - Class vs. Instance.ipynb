{
 "cells": [
  {
   "cell_type": "code",
   "execution_count": 1,
   "metadata": {
    "collapsed": true
   },
   "outputs": [],
   "source": [
    "class Person:\n",
    "    def __init__(self, initialAge):\n",
    "        if initialAge > 0:\n",
    "            self.age = initialAge\n",
    "        else:\n",
    "            print(\"Age is not valid, setting age to 0.\")\n",
    "            self.age = 0\n",
    "\n",
    "    def amIOld(self):\n",
    "        if self.age < 13:\n",
    "            print(\"You are young.\")\n",
    "        elif self.age < 18:\n",
    "            print(\"You are a teenager.\")\n",
    "        else:\n",
    "            print(\"You are old.\")\n",
    "\n",
    "    def yearPasses(self):\n",
    "        self.age += 1"
   ]
  },
  {
   "cell_type": "code",
   "execution_count": 4,
   "metadata": {
    "collapsed": false
   },
   "outputs": [
    {
     "name": "stdout",
     "output_type": "stream",
     "text": [
      "2\n",
      "12\n",
      "You are young.\n",
      "You are a teenager.\n",
      "\n",
      "17\n",
      "You are a teenager.\n",
      "You are old.\n",
      "\n"
     ]
    }
   ],
   "source": [
    "t = int(input())\n",
    "for i in range(0, t):\n",
    "    age = int(input())\n",
    "    p = Person(age)\n",
    "    p.amIOld()\n",
    "    for j in range(0, 3):\n",
    "        p.yearPasses()\n",
    "    p.amIOld()\n",
    "    print(\"\")"
   ]
  }
 ],
 "metadata": {
  "kernelspec": {
   "display_name": "Python 3",
   "language": "python",
   "name": "python3"
  },
  "language_info": {
   "codemirror_mode": {
    "name": "ipython",
    "version": 3
   },
   "file_extension": ".py",
   "mimetype": "text/x-python",
   "name": "python",
   "nbconvert_exporter": "python",
   "pygments_lexer": "ipython3",
   "version": "3.6.0"
  }
 },
 "nbformat": 4,
 "nbformat_minor": 2
}
