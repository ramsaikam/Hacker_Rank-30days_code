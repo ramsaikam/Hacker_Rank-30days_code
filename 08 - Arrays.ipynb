{
 "cells": [
  {
   "cell_type": "code",
   "execution_count": 2,
   "metadata": {
    "collapsed": false
   },
   "outputs": [
    {
     "name": "stdout",
     "output_type": "stream",
     "text": [
      "ramki\n",
      "reddy\n",
      "reddy  "
     ]
    }
   ],
   "source": [
    "input()\n",
    "\n",
    "arr = str(input()).split(\" \")\n",
    "arr.reverse()\n",
    "\n",
    "for num in arr:\n",
    "    print(num + \" \", end=\"\")"
   ]
  }
 ],
 "metadata": {
  "kernelspec": {
   "display_name": "Python 3",
   "language": "python",
   "name": "python3"
  },
  "language_info": {
   "codemirror_mode": {
    "name": "ipython",
    "version": 3
   },
   "file_extension": ".py",
   "mimetype": "text/x-python",
   "name": "python",
   "nbconvert_exporter": "python",
   "pygments_lexer": "ipython3",
   "version": "3.6.0"
  }
 },
 "nbformat": 4,
 "nbformat_minor": 2
}
