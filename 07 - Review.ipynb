{
 "cells": [
  {
   "cell_type": "code",
   "execution_count": 1,
   "metadata": {
    "collapsed": false
   },
   "outputs": [
    {
     "name": "stdout",
     "output_type": "stream",
     "text": [
      "2\n",
      "ramki\n",
      "rmi ak \n",
      "krishna\n",
      "kiha rsn \n"
     ]
    }
   ],
   "source": [
    "N = int(input())\n",
    "\n",
    "for i in range(0, N):\n",
    "\n",
    "    string = input()\n",
    "\n",
    "    for j in range(0, len(string)):\n",
    "        if j % 2 == 0:\n",
    "            print(string[j], end='')\n",
    "\n",
    "    print(\" \", end='')\n",
    "\n",
    "    for j in range(0, len(string)):\n",
    "        if j % 2 != 0:\n",
    "            print(string[j], end='')\n",
    "\n",
    "    print(\" \")"
   ]
  },
  {
   "cell_type": "code",
   "execution_count": null,
   "metadata": {
    "collapsed": true
   },
   "outputs": [],
   "source": []
  }
 ],
 "metadata": {
  "kernelspec": {
   "display_name": "Python 3",
   "language": "python",
   "name": "python3"
  },
  "language_info": {
   "codemirror_mode": {
    "name": "ipython",
    "version": 3
   },
   "file_extension": ".py",
   "mimetype": "text/x-python",
   "name": "python",
   "nbconvert_exporter": "python",
   "pygments_lexer": "ipython3",
   "version": "3.6.0"
  }
 },
 "nbformat": 4,
 "nbformat_minor": 2
}
