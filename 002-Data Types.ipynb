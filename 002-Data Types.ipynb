{
 "cells": [
  {
   "cell_type": "code",
   "execution_count": null,
   "metadata": {
    "collapsed": true
   },
   "outputs": [],
   "source": [
    "i = 4\n",
    "d = 4.0\n",
    "s = 'HackerRank '\n",
    "\n",
    "# Declare second integer, double, and String variables.\n",
    "i2 = None\n",
    "d2 = None\n",
    "s2 = None\n",
    "\n",
    "# Read and save an integer, double, and String to your variables.\n",
    "i2 = int(input())\n",
    "d2 = float(input())\n",
    "s2 = str(input())\n",
    "\n",
    "# Print the sum of both integer variables on a new line.\n",
    "print(i + i2)\n",
    "\n",
    "# Print the sum of the double variables on a new line.\n",
    "print(d + d2)\n",
    "\n",
    "# Concatenate and print the String variables on a new line\n",
    "# The 's' variable above should be printed first.\n",
    "print(s + s2)"
   ]
  }
 ],
 "metadata": {
  "kernelspec": {
   "display_name": "Python 3",
   "language": "python",
   "name": "python3"
  },
  "language_info": {
   "codemirror_mode": {
    "name": "ipython",
    "version": 3
   },
   "file_extension": ".py",
   "mimetype": "text/x-python",
   "name": "python",
   "nbconvert_exporter": "python",
   "pygments_lexer": "ipython3",
   "version": "3.6.0"
  }
 },
 "nbformat": 4,
 "nbformat_minor": 2
}
