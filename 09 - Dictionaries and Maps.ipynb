{
 "cells": [
  {
   "cell_type": "code",
   "execution_count": 2,
   "metadata": {
    "collapsed": false
   },
   "outputs": [
    {
     "name": "stdout",
     "output_type": "stream",
     "text": [
      "2\n",
      "ramki 3456\n",
      "reddy 6359\n",
      "ramki\n",
      "ramki=3456\n",
      "reddy\n",
      "reddy=6359\n"
     ]
    }
   ],
   "source": [
    "num = int(input())\n",
    "\n",
    "phone_book = {}\n",
    "\n",
    "for i in range(0, num):\n",
    "    entry = str(input()).split(\" \")\n",
    "\n",
    "    name = entry[0]\n",
    "    phone = int(entry[1])\n",
    "    phone_book[name] = phone\n",
    "\n",
    "for j in range(0, num):\n",
    "    name = str(input())\n",
    "\n",
    "    if name in phone_book:\n",
    "        phone = phone_book[name]\n",
    "        print(name + \"=\" + str(phone))\n",
    "    else:\n",
    "        print(\"Not found\")"
   ]
  },
  {
   "cell_type": "code",
   "execution_count": null,
   "metadata": {
    "collapsed": true
   },
   "outputs": [],
   "source": []
  }
 ],
 "metadata": {
  "kernelspec": {
   "display_name": "Python 3",
   "language": "python",
   "name": "python3"
  }
 },
 "nbformat": 4,
 "nbformat_minor": 2
}
